{
 "cells": [
  {
   "cell_type": "code",
   "execution_count": 237,
   "metadata": {
    "collapsed": false
   },
   "outputs": [],
   "source": [
    "from PIL import Image\n",
    "import numpy as np\n",
    "\n",
    "import sklearn as sk\n",
    "from sklearn import cluster\n",
    "from sklearn import linear_model\n",
    "from scipy.optimize import minimize\n",
    "\n",
    "import itertools\n",
    "import os\n",
    "from itertools import cycle\n",
    "\n",
    "import scipy.stats as stats\n",
    "from scipy.misc import factorial\n",
    "\n",
    "import matplotlib\n",
    "import matplotlib.pyplot as plt\n",
    "import matplotlib.mlab as mlab\n",
    "\n",
    "import seaborn as sns\n",
    "\n",
    "import cv2\n",
    "\n",
    "%matplotlib inline"
   ]
  },
  {
   "cell_type": "code",
   "execution_count": 238,
   "metadata": {
    "collapsed": false
   },
   "outputs": [],
   "source": [
    "def load_image( infilename ) :\n",
    "    img = Image.open(infilename)\n",
    "    img.load()\n",
    "    data = np.asarray( img, dtype=\"int32\" )\n",
    "    return data\n",
    "\n",
    "def save_image( npdata, outfilename ) :\n",
    "    img = Image.fromarray( np.asarray( np.clip(npdata,0,255), dtype=\"uint8\"), \"L\" )\n",
    "    img.save( outfilename )"
   ]
  },
  {
   "cell_type": "code",
   "execution_count": 239,
   "metadata": {
    "collapsed": false
   },
   "outputs": [],
   "source": [
    "image_arr = load_image(\"snap_gray.png\")"
   ]
  },
  {
   "cell_type": "code",
   "execution_count": 240,
   "metadata": {
    "collapsed": false
   },
   "outputs": [
    {
     "data": {
      "text/plain": [
       "(216, 384, 2)"
      ]
     },
     "execution_count": 240,
     "metadata": {},
     "output_type": "execute_result"
    }
   ],
   "source": [
    "image_arr.shape"
   ]
  },
  {
   "cell_type": "code",
   "execution_count": 241,
   "metadata": {
    "collapsed": false
   },
   "outputs": [],
   "source": [
    "x_coord = []\n",
    "y_coord = []\n",
    "for i,row in enumerate(image_arr):\n",
    "    for j, col in enumerate(row):\n",
    "        if (col[0] > 0):\n",
    "            x_coord.append(i)\n",
    "            y_coord.append(j)\n",
    "            \n",
    "x_coord = np.array(x_coord)\n",
    "y_coord = np.array(y_coord)"
   ]
  },
  {
   "cell_type": "code",
   "execution_count": 242,
   "metadata": {
    "collapsed": false
   },
   "outputs": [
    {
     "data": {
      "image/png": "[encoded data removed]",
      "text/plain": [
       "<matplotlib.figure.Figure at 0x119e62e80>"
      ]
     },
     "metadata": {},
     "output_type": "display_data"
    }
   ],
   "source": [
    "plt.scatter(x_coord, y_coord, lw=0, s=2)\n",
    "plt.show()"
   ]
  },
  {
   "cell_type": "markdown",
   "metadata": {
    "collapsed": true
   },
   "source": [
    "## Expectation Maximisation Approach"
   ]
  },
  {
   "cell_type": "code",
   "execution_count": 243,
   "metadata": {
    "collapsed": true
   },
   "outputs": [],
   "source": [
    "# TODO:\n",
    "# Note to Aditi, I have guessed at these from the full image with the session boundaries.\n",
    "# Have you run code that picks up the correct coordinates and labels the biomes correctly?\n",
    "\n",
    "biomes = [\n",
    "    (\"biome1\", 10, 122),\n",
    "    (\"biome2\", 5,  211),\n",
    "    (\"biome3\", 30, 315),\n",
    "    (\"biome4\", 192, 70),\n",
    "    (\"biome5\", 198, 178),\n",
    "    (\"biome6\", 160, 270),\n",
    "    (\"waterfall\",110,325)\n",
    "]"
   ]
  },
  {
   "cell_type": "markdown",
   "metadata": {},
   "source": [
    "I am still iterating with how this code should work but we'll extract the following into a source file at some stage."
   ]
  },
  {
   "cell_type": "code",
   "execution_count": 244,
   "metadata": {
    "collapsed": false
   },
   "outputs": [],
   "source": [
    "# helper functions\n",
    "def f(yi, mui, sigma2, **kwargs):\n",
    "    # here we have the normal density along the y_axis. This is not ideal\n",
    "    # and should be updated to detect the density perpendicular to the detected line.\n",
    "#     if \n",
    "    value = np.exp(-((yi-mui)**2)/(2*sigma2))/np.sqrt(2*np.pi*sigma2)\n",
    "    return value\n",
    "\n",
    "def T(j, i, params, **kwargs):\n",
    "    terms = [params['tau'][k] * f(params['y'][i], params['X'][i].dot(params['mu'][k]), params['sigma2'][k]) for k in range(params['K'])]\n",
    "    return terms[j]/np.sum(terms)\n",
    "\n",
    "def T_tplus1(j, params, **kwargs):\n",
    "    return params['denom'][j]/len(params['y'])\n",
    "\n",
    "def U_tplus1(j, params, **kwargs):\n",
    "    x = params['X']\n",
    "    xt = params['X'].T\n",
    "    w = params['T'][:,j].reshape(-1,1)\n",
    "    y = params['y']\n",
    "    weighted_num = np.linalg.pinv(xt.dot(w*x)).dot(xt*w.T).dot(y)\n",
    "    return weighted_num\n",
    "\n",
    "def Sigma_tplus1(j, params, **kwargs):\n",
    "    weighted_num = np.sum([params['T'][i,j] * np.square(params['y'][i] - params['X'][i].dot(params['mu'][j])) for i in params['N']])\n",
    "    denom = params['denom'][j]\n",
    "    return weighted_num/denom\n",
    "\n",
    "def default_stop(old_state, params):\n",
    "    return params['count'] <= 20\n",
    "    \n",
    "class WaterPath:\n",
    "    def __init__(self, X, y, biomes, **kwargs):\n",
    "        self.X = X\n",
    "        self.y = y\n",
    "        self.biomes = biomes\n",
    "        # array of centroids of the streams - This is probably the log coordinates\n",
    "        self.centroid = kwargs['centroid'] if 'centroid' in kwargs else None;\n",
    "        self.K = kwargs['K'] if 'K' in kwargs else 3; # number of distinct streams\n",
    "        self.N = kwargs['N'] if 'N' in kwargs else range(len(y)); # number of datapoints\n",
    "    \n",
    "    def initialise_params(self, log_position, num_streams):\n",
    "        # TODO: Some fancy stuff to init params here\n",
    "        # Note to Aditi. EM is susceptible to bad initialisations (as it might get stuck at other optima). A good \n",
    "        # initialisation of the algorithm is going to be important. We can use the log positions and the fact that \n",
    "        # we know the waterfall is always running to assist with this.\n",
    "        \n",
    "        mu = np.array([[0,200],[5,-300],[-2,400]])\n",
    "        tau = [0.33,0.34,0.33]\n",
    "        sigma = [15,15,15]\n",
    "        \n",
    "        self.X = np.concatenate([self.X, np.array([[self.centroid[0], 1]])])\n",
    "        self.y = np.concatenate([self.y, [self.centroid[1]]])\n",
    "        \n",
    "        params = {\n",
    "            'tau' : tau,\n",
    "            'mu' : mu,\n",
    "            'sigma2' : sigma,\n",
    "            'X' : self.X,\n",
    "            'y' : self.y,\n",
    "            'count': 0,\n",
    "            'T': np.zeros_like(self.N),\n",
    "            'K': self.K,\n",
    "            'N': range(len(self.y)),\n",
    "            'centroid': [100,100,100]\n",
    "        }\n",
    "        \n",
    "        return params\n",
    "    \n",
    "    # Run EM algorithm\n",
    "    def EM(self, params, stopping_condition=default_stop):\n",
    "        \n",
    "        old_state = None\n",
    "        \n",
    "        while stopping_condition(old_state, params):\n",
    "            old_state = params\n",
    "            \n",
    "            params['T'] = np.array([[T(j,i,params) for j in range(self.K)] for i in params['N']])\n",
    "\n",
    "            # clamp the algorithm to pass through the centroid\n",
    "            params['T'][-1] = np.array([100,100,100])\n",
    "\n",
    "            params['denom'] = np.sum(params['T'], axis=0)\n",
    "\n",
    "            tp1 = [T_tplus1(j, params) for j in range(params['K'])]\n",
    "            up1 = [U_tplus1(j, params) for j in range(params['K'])]\n",
    "\n",
    "            params['mu'] = up1\n",
    "            sp1 = [Sigma_tplus1(j, params) for j in range(params['K'])]\n",
    "\n",
    "            params['tau'] = tp1\n",
    "            params['sigma2'] = sp1\n",
    "            params['count'] += 1\n",
    "            \n",
    "#             centroid = find_centroid(params)\n",
    "            self.X[-1] = np.array([[self.centroid[0], 1]])\n",
    "        return params\n",
    "    \n",
    "    def get_biomes_associated_with_params(self, params):\n",
    "        \n",
    "        y = np.array([biome[2] for biome in self.biomes])\n",
    "        X = np.array([[biome[1],1] for biome in self.biomes])\n",
    "        \n",
    "        selected_biome = []\n",
    "        for mu, sigma2 in zip(params['mu'], params['sigma2']):\n",
    "        \n",
    "            selected_biome.append(np.argmax([\n",
    "                        f(y[i], X[i].dot(mu), sigma2) for i in range(len(y))]))\n",
    "            \n",
    "        return [self.biomes[i] for i in selected_biome]\n",
    "    \n",
    "    def print_waterflow(self, params):\n",
    "        \n",
    "        selected_biomes = self.get_biomes_associated_with_params(params)\n",
    "        \n",
    "        # start with the waterfall\n",
    "        for i, (mu, sigma2) in enumerate(zip(params['mu'], params['sigma2'])):\n",
    "            \n",
    "            print(selected_biomes[i])\n",
    "            print(\"Edge1: {}, Edge2: {}\".format(self.centroid, [selected_biomes[i][1], selected_biomes[i][2]]))\n",
    "            \n",
    "            if selected_biomes[i][0] == 'waterfall':\n",
    "                print(\"Incoming: True\")\n",
    "                print(\"Percentage flow: {}\".format(params['tau'][i]*100))\n",
    "                \n",
    "            else:\n",
    "                print(\"Incoming: False\")\n",
    "                print(\"Percentage of flow: {}\".format(params['tau'][i]*100))\n",
    "                \n",
    "            print()\n",
    "        "
   ]
  },
  {
   "cell_type": "markdown",
   "metadata": {},
   "source": [
    "We can use the above class to detect the water paths."
   ]
  },
  {
   "cell_type": "code",
   "execution_count": 245,
   "metadata": {
    "collapsed": false
   },
   "outputs": [],
   "source": [
    "X = np.concatenate([x_coord.reshape(-1,1), np.ones_like(x_coord.reshape(-1,1))], axis=1)\n",
    "water_path = WaterPath(X, y_coord, biomes, centroid=[95,210])\n",
    "params = water_path.initialise_params(None, None)\n",
    "params = water_path.EM(params)"
   ]
  },
  {
   "cell_type": "code",
   "execution_count": 246,
   "metadata": {
    "collapsed": false
   },
   "outputs": [
    {
     "name": "stdout",
     "output_type": "stream",
     "text": [
      "('biome1', 10, 122)\n",
      "Edge1: [95, 210], Edge2: [10, 122]\n",
      "Incoming: False\n",
      "Percentage of flow: 50.542572488970116\n",
      "\n",
      "('waterfall', 110, 325)\n",
      "Edge1: [95, 210], Edge2: [110, 325]\n",
      "Incoming: True\n",
      "Percentage flow: 48.22837117539683\n",
      "\n",
      "('biome4', 192, 70)\n",
      "Edge1: [95, 210], Edge2: [192, 70]\n",
      "Incoming: False\n",
      "Percentage of flow: 39.3182283101554\n",
      "\n"
     ]
    }
   ],
   "source": [
    "s_b = water_path.get_biomes_associated_with_params(params)\n",
    "water_path.print_waterflow(params)"
   ]
  },
  {
   "cell_type": "code",
   "execution_count": 247,
   "metadata": {
    "collapsed": false
   },
   "outputs": [
    {
     "data": {
      "image/png": "[encoded data removed]",
      "text/plain": [
       "<matplotlib.figure.Figure at 0x1060de630>"
      ]
     },
     "metadata": {},
     "output_type": "display_data"
    }
   ],
   "source": [
    "xs = np.linspace(0,225)\n",
    "\n",
    "lines = [[], [], []]\n",
    "\n",
    "for x in xs:\n",
    "    for i, l in enumerate(params['mu']):\n",
    "        y = l[1] + l[0] * x\n",
    "        \n",
    "#         if (((x >= water_path.centroid[0]-5) and (x <= s_b[i][1] + 20)) or \n",
    "#             ((x < water_path.centroid[0]+5) and (x > s_b[i][1] - 10) )):\n",
    "            \n",
    "        lines[i].append([x,y])\n",
    "\n",
    "colors = ['r', 'g', 'b']\n",
    "selection = np.argmax(params['T'], axis=1)\n",
    "\n",
    "lines = [np.array(l) for l in lines]\n",
    "\n",
    "\n",
    "for i in range(3):\n",
    "    plt.scatter(params['X'][:,0][selection == i], params['y'][selection == i], c = colors[i], lw=0, s=3, alpha=0.8)\n",
    "\n",
    "    plt.plot(lines[i][:,0], lines[i][:,1], c = colors[i], lw=4, label=s_b[i][0])\n",
    "\n",
    "plt.legend(loc='best')\n",
    "plt.show()"
   ]
  },
  {
   "cell_type": "markdown",
   "metadata": {
    "collapsed": true
   },
   "source": [
    "# Using a different coordinate system\n",
    "\n",
    "Due to the radial nature of the water flows. What happens if we describe the system as purely a centroid surrounded by flows that are described by the angle that they make away from that centroid?"
   ]
  },
  {
   "cell_type": "code",
   "execution_count": 248,
   "metadata": {
    "collapsed": false
   },
   "outputs": [
    {
     "data": {
      "text/plain": [
       "array([ 14,  14,  15,  15,  15,  15,  16,  16,  16,  16,  16,  16,  16,\n",
       "        16,  17,  17,  17,  17,  17,  17,  18,  18,  18,  18,  19,  19,\n",
       "        19,  19,  19,  20,  20,  20,  20,  21,  21,  22,  22,  22,  22,\n",
       "        22,  22,  22,  23,  23,  23,  23,  24,  24,  24,  25,  25,  25,\n",
       "        26,  26,  26,  26,  26,  27,  27,  27,  28,  29,  29,  30,  30,\n",
       "        30,  30,  30,  30,  30,  30,  31,  31,  31,  31,  31,  31,  31,\n",
       "        31,  31,  31,  32,  32,  32,  32,  32,  32,  32,  32,  33,  33,\n",
       "        33,  33,  34,  34,  34,  34,  34,  34,  35,  35,  35,  35,  35,\n",
       "        35,  35,  35,  36,  36,  36,  36,  36,  36,  37,  37,  37,  37,\n",
       "        37,  37,  37,  38,  38,  38,  38,  38,  38,  38,  38,  39,  39,\n",
       "        39,  39,  39,  39,  39,  40,  40,  40,  40,  40,  40,  40,  41,\n",
       "        41,  42,  42,  43,  44,  44,  45,  45,  45,  46,  46,  48,  48,\n",
       "        49,  49,  50,  50,  51,  51,  51,  52,  52,  52,  53,  53,  54,\n",
       "        54,  54,  54,  54,  54,  55,  55,  55,  56,  56,  57,  57,  58,\n",
       "        58,  58,  59,  60,  60,  61,  61,  61,  61,  62,  62,  62,  63,\n",
       "        63,  63,  63,  64,  64,  64,  65,  65,  66,  66,  67,  67,  67,\n",
       "        68,  68,  68,  69,  69,  70,  70,  70,  70,  70,  70,  71,  71,\n",
       "        71,  71,  71,  72,  72,  72,  72,  72,  73,  73,  74,  74,  74,\n",
       "        75,  75,  75,  76,  76,  76,  77,  77,  77,  77,  77,  78,  78,\n",
       "        79,  80,  80,  81,  82,  83,  83,  84,  84,  85,  85,  86,  86,\n",
       "        87,  87,  88,  89,  89,  90,  91,  91,  93,  93,  94,  94,  94,\n",
       "        94,  95,  95,  95,  95,  95,  95,  95,  95,  95,  95,  96,  96,\n",
       "        96,  96,  96,  96,  96,  96,  96,  96,  96,  96,  97,  97,  97,\n",
       "        97,  97,  97,  97,  97,  97,  98,  98,  98,  98,  99,  99,  99,\n",
       "        99, 100, 100, 100, 100, 100, 100, 100, 100, 100, 101, 101, 101,\n",
       "       101, 101, 101, 101, 101, 101, 101, 101, 101, 101, 102, 102, 102,\n",
       "       102, 102, 102, 102, 102, 102, 102, 102, 102, 103, 103, 103, 103,\n",
       "       103, 103, 103, 103, 103, 103, 104, 104, 104, 104, 104, 104, 104,\n",
       "       104, 104, 105, 105, 105, 105, 105, 105, 105, 105, 105, 105, 105,\n",
       "       105, 106, 106, 106, 106, 106, 106, 106, 106, 106, 106, 107, 107,\n",
       "       107, 107, 107, 107, 107, 107, 107, 108, 108, 108, 108, 108, 108,\n",
       "       108, 108, 108, 108, 108, 108, 108, 109, 109, 109, 109, 109, 109,\n",
       "       109, 109, 109, 109, 110, 110, 110, 110, 111, 111, 111, 111, 111,\n",
       "       111, 111, 111, 111, 111, 111, 111, 111, 111, 111, 112, 112, 112,\n",
       "       112, 112, 112, 112, 112, 112, 112, 112, 112, 112, 112, 112, 112,\n",
       "       112, 112, 112, 113, 113, 113, 113, 113, 113, 113, 113, 113, 113,\n",
       "       113, 113, 113, 113, 113, 113, 113, 114, 114, 114, 114, 114, 114,\n",
       "       114, 114, 114, 114, 114, 114, 114, 114, 114, 115, 115, 115, 115,\n",
       "       115, 115, 115, 115, 115, 115, 115, 115, 116, 116, 116, 116, 116,\n",
       "       116, 116, 116, 116, 116, 116, 116, 116, 116, 116, 116, 116, 117,\n",
       "       117, 117, 117, 117, 117, 117, 117, 117, 117, 117, 117, 117, 117,\n",
       "       117, 117, 117, 117, 118, 118, 118, 118, 118, 118, 118, 118, 118,\n",
       "       118, 118, 118, 119, 119, 119, 119, 119, 119, 119, 119, 119, 119,\n",
       "       119, 120, 120, 120, 120, 120, 120, 120, 121, 121, 121, 121, 121,\n",
       "       121, 121, 121, 121, 122, 122, 122, 122, 122, 122, 123, 123, 123,\n",
       "       123, 124, 124, 124, 124, 124, 124, 125, 125, 125, 125, 125, 125,\n",
       "       125, 125, 126, 126, 126, 126, 126, 126, 126, 126, 126, 127, 127,\n",
       "       127, 127, 127, 127, 127, 127, 127, 128, 128, 128, 128, 128, 128,\n",
       "       128, 128, 128, 129, 129, 129, 129, 129, 129, 129, 130, 130, 131,\n",
       "       131, 132, 132, 132, 132, 133, 133, 133, 134, 134, 135, 135, 135,\n",
       "       136, 136, 137, 137, 137, 138, 138, 139, 139, 139, 140, 140, 141,\n",
       "       141, 141, 141, 142, 142, 143, 143, 144, 144, 145, 145, 145, 146,\n",
       "       146, 147, 147, 148, 148, 149, 149, 150, 150, 150, 150, 151, 151,\n",
       "       151, 151, 152, 152, 153, 154, 155, 156, 157, 157, 158, 158, 158,\n",
       "       159, 159, 159, 160, 160, 161, 161, 161, 162, 162, 162, 163, 163,\n",
       "       164, 164, 165, 165, 166, 166, 166, 166, 166, 167, 167, 167, 168,\n",
       "       169, 169, 169, 170, 170, 170, 171, 171, 171, 172, 172, 173, 174,\n",
       "       174, 175, 175, 175, 176, 176, 177, 178, 179, 180, 180, 181, 181,\n",
       "       181, 182, 183, 184, 185, 185, 186, 187, 188, 189, 189, 191, 191,\n",
       "       191, 192, 192, 193, 193, 194, 194, 194, 195, 195, 196, 197, 200,\n",
       "       200, 201, 201, 201])"
      ]
     },
     "execution_count": 248,
     "metadata": {},
     "output_type": "execute_result"
    }
   ],
   "source": [
    "x_coord"
   ]
  },
  {
   "cell_type": "code",
   "execution_count": 249,
   "metadata": {
    "collapsed": false
   },
   "outputs": [],
   "source": [
    "def convert_XY_to_radians(X, Y, x1, y1):\n",
    "    deltaX = (X - x1).astype(np.float32)\n",
    "    deltaY = (Y - y1).astype(np.float32)\n",
    "    deltaX[deltaX==0] = 1e-15\n",
    "    angles = np.arctan(deltaY/deltaX)\n",
    "    angles[deltaX < 0] = angles[deltaX < 0] + np.pi\n",
    "    return angles\n",
    "\n",
    "def convert_theta_centroid_to_line(distances, theta, centroid):\n",
    "    x = distances * np.cos(theta) + centroid[0]\n",
    "    y = distances * np.sin(theta) + centroid[1]\n",
    "    return (x,y)\n",
    "\n",
    "def find_x_y(m1,m2,c1,c2):\n",
    "    x = (c2-c1)/(m1-m2)\n",
    "    y = m1 * x + c1\n",
    "    return [x, y]\n",
    "\n",
    "def straight_line(m,c,xs):\n",
    "    return m*xs + c"
   ]
  },
  {
   "cell_type": "code",
   "execution_count": 250,
   "metadata": {
    "collapsed": true
   },
   "outputs": [],
   "source": [
    "K = 3\n",
    "centroid = (200, 240)\n",
    "thetas = [0,-1,1]"
   ]
  },
  {
   "cell_type": "code",
   "execution_count": 375,
   "metadata": {
    "collapsed": false
   },
   "outputs": [],
   "source": [
    "def get_thetas_and_centroid(x, y, mu, Sigma, K):\n",
    "    angles = convert_XY_to_radians(x, y, mu[0], mu[1])\n",
    "    \n",
    "    k_means = sk.cluster.KMeans(n_clusters=K)\n",
    "    clusters = k_means.fit_predict(angles.reshape(-1,1))\n",
    "\n",
    "    thetas = np.array([np.median(angles[clusters == c]) for c in range(K)])\n",
    "    standard_deviations = [np.std(angles[clusters == c]) for c in range(K)]\n",
    "\n",
    "    # re-assign points to lines based on euclidean distance\n",
    "    ms = []\n",
    "    cs = []\n",
    "    for i in range(K):\n",
    "        l_r = linear_model.LinearRegression()\n",
    "        l_r.fit(x[clusters == i].reshape(-1,1), y[clusters == i])\n",
    "        c = l_r.intercept_\n",
    "        m = l_r.coef_[0]\n",
    "        ms.append(m)\n",
    "        cs.append(c)\n",
    "\n",
    "    ms = np.array(ms)\n",
    "    cs = np.array(cs)\n",
    "    \n",
    "    x_y_samples = np.zeros((int(factorial(K)), 2))\n",
    "    N = len(x_y_samples)\n",
    "    for i, (l1, l2) in enumerate(itertools.permutations(range(K),2)):\n",
    "\n",
    "        x_ = (cs[l1] - cs[l2])/(ms[l2] - ms[l1])\n",
    "        y_ = ((ms[l1]*x_) + cs[l1])\n",
    "        x_y_samples[i] = x_,y_\n",
    "\n",
    "    mu_sample = np.mean(x_y_samples, axis=0)\n",
    "    S_sample = np.eye(2) * np.var(x_y_samples, axis=0)\n",
    "    \n",
    "    # use a Gibbs sampled Bayesian update to estimate new posterior of \n",
    "    S0_minus1 = np.linalg.pinv(Sigma)\n",
    "    SS_minus1 = np.linalg.pinv(S_sample)\n",
    "\n",
    "    mu_posterior = np.linalg.pinv(S0_minus1 + N * SS_minus1).dot(S0_minus1.dot(mu) + N * SS_minus1.dot(mu_sample))\n",
    "    Sigma_posterior = np.linalg.pinv(S0_minus1 + N * SS_minus1)\n",
    "    \n",
    "#     angles = convert_XY_to_radians(x, y, mu_posterior[0], mu_posterior[1])\n",
    "#     k_means = sk.cluster.KMeans(n_clusters=K)\n",
    "#     clusters = k_means.fit_predict(angles.reshape(-1,1))\n",
    "#     thetas = np.array([np.mean(angles[clusters == c]) for c in range(K)])\n",
    "#     standard_deviations = [np.std(angles[clusters == c]) for c in range(K)]\n",
    "    \n",
    "    return mu_posterior, Sigma_posterior, thetas, clusters, standard_deviations"
   ]
  },
  {
   "cell_type": "code",
   "execution_count": 376,
   "metadata": {
    "collapsed": true
   },
   "outputs": [],
   "source": [
    "def iterate_to_get_thetas_and_mu(mu_prior, sigma_prior, K):\n",
    "    sd = np.ones(K)\n",
    "    iteration = 0\n",
    "    diff = 1e10\n",
    "    while diff > 1e-3:\n",
    "        mu_prior, sigma_prior, thetas, clusters, sd_n = get_thetas_and_centroid(x_coord, y_coord, mu_prior, sigma_prior, K)\n",
    "        diff = np.abs(np.subtract(sd_n, sd)).sum()\n",
    "        sd = sd_n\n",
    "        iteration += 1\n",
    "        if iteration >= 25:\n",
    "            break\n",
    "    return mu_prior, sigma_prior, thetas, clusters, sd_n"
   ]
  },
  {
   "cell_type": "code",
   "execution_count": 377,
   "metadata": {
    "collapsed": false
   },
   "outputs": [],
   "source": [
    "mu_prior = np.array([200,150])\n",
    "sigma_prior = np.array([[200,0], [0,200]])\n",
    "K = 3\n",
    "mu, sigma, thetas, clusters, sd_n = iterate_to_get_thetas_and_mu(mu_prior, sigma_prior, K)"
   ]
  },
  {
   "cell_type": "code",
   "execution_count": 378,
   "metadata": {
    "collapsed": false
   },
   "outputs": [
    {
     "data": {
      "image/png": "[encoded data removed]",
      "text/plain": [
       "<matplotlib.figure.Figure at 0x117ccf710>"
      ]
     },
     "metadata": {},
     "output_type": "display_data"
    }
   ],
   "source": [
    "colors = ['r', 'g', 'b']\n",
    "for i in range(3):\n",
    "    plt.scatter(x_coord[clusters==i], y_coord[clusters==i], c=colors[i], lw=0, s=3, alpha=0.3)\n",
    "    xs, ys = convert_theta_centroid_to_line(np.arange(200), thetas[i], mu)\n",
    "    plt.plot(xs, ys, c=colors[i])\n",
    "\n",
    "# plt.legend(loc='best')\n",
    "plt.show()"
   ]
  },
  {
   "cell_type": "code",
   "execution_count": 379,
   "metadata": {
    "collapsed": true
   },
   "outputs": [],
   "source": [
    "# now using the inferred centroid and theta value as starting parameters. We can run this frame by frame\n",
    "files = os.listdir(\"./frames\")"
   ]
  },
  {
   "cell_type": "code",
   "execution_count": 380,
   "metadata": {
    "collapsed": false
   },
   "outputs": [],
   "source": [
    "next_file = cycle(files)\n",
    "file = next(next_file) # get rid of the annoying first one"
   ]
  },
  {
   "cell_type": "code",
   "execution_count": 381,
   "metadata": {
    "collapsed": true
   },
   "outputs": [],
   "source": [
    "import time\n",
    "import pylab as pl\n",
    "from IPython import display"
   ]
  },
  {
   "cell_type": "code",
   "execution_count": 385,
   "metadata": {
    "collapsed": false
   },
   "outputs": [
    {
     "data": {
      "image/png": "[encoded data removed]",
      "text/plain": [
       "<matplotlib.figure.Figure at 0x118d4ada0>"
      ]
     },
     "metadata": {},
     "output_type": "display_data"
    },
    {
     "data": {
      "text/plain": [
       "<matplotlib.figure.Figure at 0x118d4ada0>"
      ]
     },
     "metadata": {},
     "output_type": "display_data"
    }
   ],
   "source": [
    "# file = next(next_file)\n",
    "# image_arr = load_image(\"./frames/\" + file)\n",
    "K = 3\n",
    "iteration = 0\n",
    "\n",
    "mu_prior = np.array([50,50])\n",
    "sigma_prior = np.array([[2000,0], [0,2000]])\n",
    "sd = [1,1,1]\n",
    "\n",
    "delta = 1\n",
    "x = np.arange(0, 450, delta)\n",
    "y = np.arange(-50, 250, delta)\n",
    "X, Y = np.meshgrid(x, y)\n",
    "\n",
    "for file in files:\n",
    "    if not 'jpg' in file:\n",
    "        continue\n",
    "        \n",
    "    image_arr = load_image(\"./frames/\" + file)\n",
    "    \n",
    "    x_coord = []\n",
    "    y_coord = []\n",
    "\n",
    "    for i,row in enumerate(image_arr):\n",
    "        for j, col in enumerate(row):\n",
    "            if (col > 0):\n",
    "                x_coord.append(j)\n",
    "                y_coord.append(i)\n",
    "\n",
    "    x_coord = np.array(x_coord)\n",
    "    y_coord = np.array(y_coord)\n",
    "\n",
    "    mu_prior, sigma_prior, thetas, clusters, sd = iterate_to_get_thetas_and_mu(mu_prior, sigma_prior, K)\n",
    "    \n",
    "    colors = ['b' for i in range(10)]#['y', 'g', 'b', 'r']\n",
    "    colors2 = ['y' for i in range(10)]#['y', 'g', 'b', 'r']\n",
    "    \n",
    "    for i in range(K):\n",
    "        pl.scatter(x_coord[clusters==i], y_coord[clusters==i], c=colors[i], lw=0, s=3, alpha=0.3)\n",
    "        xs, ys = convert_theta_centroid_to_line(np.arange(200), thetas[i], mu_prior)\n",
    "        pl.plot(xs, ys, c=colors2[i], lw=2)\n",
    "\n",
    "    Z = mlab.bivariate_normal(X, Y, sigmax=sigma_prior[0][0], sigmay=sigma_prior[1][1], mux=mu_prior[0], muy=mu_prior[1])\n",
    "    if np.sum(Z) > 1e-5:\n",
    "        pl.contour(X, Y, Z)\n",
    "    pl.xlim([0,450])\n",
    "    pl.ylim([-50,250])\n",
    "\n",
    "    display.clear_output(wait=True)\n",
    "    display.display(pl.gcf())\n",
    "    time.sleep(0.1)\n",
    "    pl.clf()\n",
    "    \n",
    "    iteration += 1\n",
    "    \n",
    "    if (np.max(sd) > 0.35):\n",
    "        K += 1\n",
    "    else:\n",
    "        K -= 1\n",
    "        \n",
    "    if K < 3:\n",
    "        K = 3"
   ]
  },
  {
   "cell_type": "raw",
   "metadata": {},
   "source": [
    "### Looking at the Video"
   ]
  },
  {
   "cell_type": "code",
   "execution_count": 268,
   "metadata": {
    "collapsed": true
   },
   "outputs": [],
   "source": [
    "def extract_boundary(original,hsv_image, lower, upper, flag):\n",
    "    # need end points of the boundary too\n",
    "    mask = cv2.inRange(hsv_image, lower, upper)\n",
    "    # Bitwise-AND mask and original image\n",
    "    res = cv2.bitwise_and(original,original,mask= mask)\n",
    "    #boundaries in gray scale\n",
    "    gray = cv2.cvtColor(res,cv2.COLOR_BGR2GRAY)\n",
    "    # Otsu's thresholding and gaussian filtering  to make the logs white and the background black for better detection\n",
    "    ret2,th2 = cv2.threshold(gray,0,255,cv2.THRESH_BINARY+cv2.THRESH_OTSU)\n",
    "    # Otsu's thresholding after Gaussian filtering\n",
    "    blur = cv2.GaussianBlur(gray,(5,5),0)\n",
    "    #logs will be white in th3\n",
    "    ret3,th3 = cv2.threshold(blur,0,255,cv2.THRESH_BINARY+cv2.THRESH_OTSU)\n",
    "    if(flag==1):\n",
    "        black, extLeft, extRight, cx,cy = find_contour(th3,original)\n",
    "        return black,extLeft,extRight,cx,cy\n",
    "    return th3   \n",
    "\n",
    "#just identify water flow path for drawing graphs   \n",
    "def detect_water(min_video_frame):\n",
    "    hsv = cv2.cvtColor(min_video_frame, cv2.COLOR_BGR2HSV)\n",
    "    # define range of green/yellow color in HSV\n",
    "    lower_green = np.array([29,86,6])\n",
    "    upper_green = np.array([64,255,255])\n",
    "    th3 = extract_boundary(min_video_frame,hsv,lower_green, upper_green,0)    \n",
    "    store = th3\n",
    "    # morphing to get the skeletal structure/ medial line of the water flow    \n",
    "    size = np.size(th3)    \n",
    "    skel = np.zeros(th3.shape,np.uint8)    \n",
    "    element = cv2.getStructuringElement(cv2.MORPH_CROSS,(3,3))\n",
    "    done = False\n",
    " \n",
    "    while(not done):\n",
    "        eroded = cv2.erode(th3,element)\n",
    "        temp = cv2.dilate(eroded,element)\n",
    "        temp = cv2.subtract(th3,temp)\n",
    "        skel = cv2.bitwise_or(skel,temp)\n",
    "        th3 = eroded.copy()\n",
    " \n",
    "        zeros = size - cv2.countNonZero(th3)\n",
    "        if zeros==size:\n",
    "            done = True\n",
    "    return store,skel"
   ]
  },
  {
   "cell_type": "code",
   "execution_count": null,
   "metadata": {
    "collapsed": false
   },
   "outputs": [],
   "source": [
    "cap = cv2.VideoCapture('./0-Section_One-16-21-27-528.mov')\n",
    "count = 0\n",
    "while cap.isOpened():\n",
    "    ret,frame = cap.read()\n",
    "\n",
    "    if ret!=True:\n",
    "        store, skel = detect_water(frame[864:1080,0:384])\n",
    "#         cv2.imshow('window-name', store)\n",
    "        cv2.imwrite(\"frames/frame%d.jpg\" % count, store)\n",
    "        count = count + 1\n",
    "        \n",
    "    else:\n",
    "        # The next frame is not ready, so we try to read it again\n",
    "        cap.set(1, count-1)\n",
    "        # It is better to wait for a while for the next frame to be ready\n",
    "        cv2.waitKey(1000)\n",
    "\n",
    "    if cv2.waitKey(10) == 27:\n",
    "        break\n",
    "    if cap.get(1) == cap.get(7):\n",
    "        # If the number of captured frames is equal to the total number of frames,\n",
    "        # we stop\n",
    "        break\n",
    "        \n",
    "cap.release()\n",
    "cap.destroyAllWindows()"
   ]
  }
 ],
 "metadata": {
  "anaconda-cloud": {},
  "kernelspec": {
   "display_name": "Python 3",
   "language": "python",
   "name": "python3"
  },
  "language_info": {
   "codemirror_mode": {
    "name": "ipython",
    "version": 3
   },
   "file_extension": ".py",
   "mimetype": "text/x-python",
   "name": "python",
   "nbconvert_exporter": "python",
   "pygments_lexer": "ipython3",
   "version": "3.5.2"
  }
 },
 "nbformat": 4,
 "nbformat_minor": 1
}
