{
 "cells": [
  {
   "cell_type": "code",
   "execution_count": 1,
   "metadata": {
    "collapsed": false
   },
   "outputs": [],
   "source": [
    "from PIL import Image\n",
    "import numpy as np\n",
    "\n",
    "from sklearn import linear_model\n",
    "from scipy.optimize import minimize\n",
    "\n",
    "import matplotlib\n",
    "import matplotlib.pyplot as plt\n",
    "\n",
    "%matplotlib inline"
   ]
  },
  {
   "cell_type": "code",
   "execution_count": 2,
   "metadata": {
    "collapsed": false
   },
   "outputs": [],
   "source": [
    "def load_image( infilename ) :\n",
    "    img = Image.open(infilename)\n",
    "    img.load()\n",
    "    data = np.asarray( img, dtype=\"int32\" )\n",
    "    return data\n",
    "\n",
    "def save_image( npdata, outfilename ) :\n",
    "    img = Image.fromarray( np.asarray( np.clip(npdata,0,255), dtype=\"uint8\"), \"L\" )\n",
    "    img.save( outfilename )"
   ]
  },
  {
   "cell_type": "code",
   "execution_count": 3,
   "metadata": {
    "collapsed": false
   },
   "outputs": [],
   "source": [
    "image_arr = load_image(\"snap_gray.png\")"
   ]
  },
  {
   "cell_type": "code",
   "execution_count": 4,
   "metadata": {
    "collapsed": false
   },
   "outputs": [
    {
     "data": {
      "text/plain": [
       "(216, 384, 2)"
      ]
     },
     "execution_count": 4,
     "metadata": {},
     "output_type": "execute_result"
    }
   ],
   "source": [
    "image_arr.shape"
   ]
  },
  {
   "cell_type": "code",
   "execution_count": 5,
   "metadata": {
    "collapsed": false
   },
   "outputs": [],
   "source": [
    "x_coord = []\n",
    "y_coord = []\n",
    "for i,row in enumerate(image_arr):\n",
    "    for j, col in enumerate(row):\n",
    "        if (col[0] > 0):\n",
    "            x_coord.append(i)\n",
    "            y_coord.append(j)\n",
    "            \n",
    "x_coord = np.array(x_coord)\n",
    "y_coord = np.array(y_coord)"
   ]
  },
  {
   "cell_type": "code",
   "execution_count": 7,
   "metadata": {
    "collapsed": false
   },
   "outputs": [
    {
     "data": {
      "image/png": "[encoded data removed]",
      "text/plain": [
       "<matplotlib.figure.Figure at 0x10fdc8e48>"
      ]
     },
     "metadata": {},
     "output_type": "display_data"
    }
   ],
   "source": [
    "plt.scatter(x_coord, y_coord, lw=0, s=2)\n",
    "plt.show()"
   ]
  },
  {
   "cell_type": "markdown",
   "metadata": {
    "collapsed": true
   },
   "source": [
    "## Expectation Maximisation Approach"
   ]
  },
  {
   "cell_type": "code",
   "execution_count": 13,
   "metadata": {
    "collapsed": true
   },
   "outputs": [],
   "source": [
    "# TODO:\n",
    "# Note to Aditi, I have guessed at these from the full image with the session boundaries.\n",
    "# Have you run code that picks up the correct coordinates and labels the biomes correctly?\n",
    "\n",
    "biomes = [\n",
    "    (\"biome1\", 10, 122),\n",
    "    (\"biome2\", 5,  211),\n",
    "    (\"biome3\", 30, 315),\n",
    "    (\"biome4\", 192, 70),\n",
    "    (\"biome5\", 198, 178),\n",
    "    (\"biome6\", 160, 270),\n",
    "    (\"waterfall\",110,325)\n",
    "]"
   ]
  },
  {
   "cell_type": "markdown",
   "metadata": {},
   "source": [
    "I am still iterating with how this code should work but we'll extract the following into a source file at some stage.|"
   ]
  },
  {
   "cell_type": "code",
   "execution_count": 24,
   "metadata": {
    "collapsed": false
   },
   "outputs": [],
   "source": [
    "# helper functions\n",
    "def f(yi, mui, sigma2, **kwargs):\n",
    "    value = np.exp(-((yi-mui)**2)/(2*sigma2))/np.sqrt(2*np.pi*sigma2)\n",
    "    return value\n",
    "\n",
    "def T(j, i, params, **kwargs):\n",
    "    terms = [params['tau'][k] * f(params['y'][i], params['X'][i].dot(params['mu'][k]), params['sigma2'][k]) for k in range(params['K'])]\n",
    "    return terms[j]/np.sum(terms)\n",
    "\n",
    "def T_tplus1(j, params, **kwargs):\n",
    "    return params['denom'][j]/len(params['y'])\n",
    "\n",
    "def U_tplus1(j, params, **kwargs):\n",
    "    x = params['X']\n",
    "    xt = params['X'].T\n",
    "    w = params['T'][:,j].reshape(-1,1)\n",
    "    y = params['y']\n",
    "    weighted_num = np.linalg.pinv(xt.dot(w*x)).dot(xt*w.T).dot(y)\n",
    "    return weighted_num\n",
    "\n",
    "def Sigma_tplus1(j, params, **kwargs):\n",
    "    weighted_num = np.sum([params['T'][i,j] * np.square(params['y'][i] - params['X'][i].dot(params['mu'][j])) for i in params['N']])\n",
    "    denom = params['denom'][j]\n",
    "    return weighted_num/denom\n",
    "\n",
    "def default_stop(old_state, params):\n",
    "    return params['count'] <= 20\n",
    "    \n",
    "class WaterPath:\n",
    "    def __init__(self, X, y, biomes, **kwargs):\n",
    "        self.X = X\n",
    "        self.y = y\n",
    "        self.biomes = biomes\n",
    "        # array of centroids of the streams - This is probably the log coordinates\n",
    "        self.centroid = kwargs['centroid'] if 'centroid' in kwargs else None;\n",
    "        self.K = kwargs['K'] if 'K' in kwargs else 3; # number of distinct streams\n",
    "        self.N = kwargs['N'] if 'N' in kwargs else range(len(y)); # number of datapoints\n",
    "    \n",
    "    def initialise_params(self, log_position, num_streams):\n",
    "        # TODO: Some fancy stuff to init params here\n",
    "        # Note to Aditi. EM is susceptible to bad initialisations (as it might get stuck at other optima). A good \n",
    "        # initialisation of the algorithm is going to be important. We can use the log positions and the fact that \n",
    "        # we know the waterfall is always running to assist with this.\n",
    "        \n",
    "        mu = np.array([[0,200],[5,-300],[-2,400]])\n",
    "        tau = [0.33,0.34,0.33]\n",
    "        sigma = [15,15,15]\n",
    "        \n",
    "        self.X = np.concatenate([self.X, np.array([[self.centroid[0], 1]])])\n",
    "        self.y = np.concatenate([self.y, [self.centroid[1]]])\n",
    "        \n",
    "        params = {\n",
    "            'tau' : tau,\n",
    "            'mu' : mu,\n",
    "            'sigma2' : sigma,\n",
    "            'X' : self.X,\n",
    "            'y' : self.y,\n",
    "            'count': 0,\n",
    "            'T': np.zeros_like(self.N),\n",
    "            'K': self.K,\n",
    "            'N': range(len(self.y))\n",
    "        }\n",
    "        \n",
    "        return params\n",
    "    \n",
    "    # Run EM algorithm\n",
    "    def EM(self, params, stopping_condition=default_stop):\n",
    "        \n",
    "        old_state = None\n",
    "        \n",
    "        while stopping_condition(old_state, params):\n",
    "            old_state = params\n",
    "            \n",
    "            params['T'] = np.array([[T(j,i,params) for j in range(self.K)] for i in params['N']])\n",
    "\n",
    "            # clamp the algorithm to pass through the centroid\n",
    "            params['T'][-1] = np.array([100,100,100])\n",
    "\n",
    "            params['denom'] = np.sum(params['T'], axis=0)\n",
    "\n",
    "            tp1 = [T_tplus1(j, params) for j in range(params['K'])]\n",
    "            up1 = [U_tplus1(j, params) for j in range(params['K'])]\n",
    "\n",
    "            params['mu'] = up1\n",
    "            sp1 = [Sigma_tplus1(j, params) for j in range(params['K'])]\n",
    "\n",
    "            params['tau'] = tp1\n",
    "            params['sigma2'] = sp1\n",
    "            params['count'] += 1\n",
    "            \n",
    "        return params\n",
    "    \n",
    "    def get_biomes_associated_with_params(self, params):\n",
    "        \n",
    "        y = np.array([biome[2] for biome in self.biomes])\n",
    "        X = np.array([[biome[1],1] for biome in self.biomes])\n",
    "        \n",
    "        selected_biome = []\n",
    "        for mu, sigma2 in zip(params['mu'], params['sigma2']):\n",
    "        \n",
    "            selected_biome.append(np.argmax([\n",
    "                        f(y[i], X[i].dot(mu), sigma2) for i in range(len(y))]))\n",
    "            \n",
    "        return [self.biomes[i] for i in selected_biome]\n",
    "    \n",
    "    def print_waterflow(self, params):\n",
    "        \n",
    "        selected_biomes = self.get_biomes_associated_with_params(params)\n",
    "        \n",
    "        # start with the waterfall\n",
    "        for i, (mu, sigma2) in enumerate(zip(params['mu'], params['sigma2'])):\n",
    "            \n",
    "            print(selected_biomes[i])\n",
    "            print(\"Edge1: {}, Edge2: {}\".format(self.centroid, [selected_biomes[i][1], selected_biomes[i][2]]))\n",
    "            \n",
    "            if selected_biomes[i][0] == 'waterfall':\n",
    "                print(\"Incoming: True\")\n",
    "                print(\"Percentage flow: {}\".format(params['tau'][i]*100))\n",
    "                \n",
    "            else:\n",
    "                print(\"Incoming: False\")\n",
    "                print(\"Percentage of flow: {}\".format(params['tau'][i]*100))\n",
    "                \n",
    "            print()\n",
    "        "
   ]
  },
  {
   "cell_type": "markdown",
   "metadata": {},
   "source": [
    "We can use the above class to detect the water paths."
   ]
  },
  {
   "cell_type": "code",
   "execution_count": 25,
   "metadata": {
    "collapsed": false
   },
   "outputs": [],
   "source": [
    "X = np.concatenate([x_coord.reshape(-1,1), np.ones_like(x_coord.reshape(-1,1))], axis=1)\n",
    "water_path = WaterPath(X, y_coord, biomes, centroid=[95,210])\n",
    "params = water_path.initialise_params(None, None)\n",
    "params = water_path.EM(params)"
   ]
  },
  {
   "cell_type": "code",
   "execution_count": 26,
   "metadata": {
    "collapsed": false
   },
   "outputs": [
    {
     "name": "stdout",
     "output_type": "stream",
     "text": [
      "('biome1', 10, 122)\n",
      "Edge1: [95, 210], Edge2: [10, 122]\n",
      "Incoming: False\n",
      "Percentage of flow: 50.542572488970116\n",
      "\n",
      "('waterfall', 110, 325)\n",
      "Edge1: [95, 210], Edge2: [110, 325]\n",
      "Incoming: True\n",
      "Percentage flow: 48.22837117539683\n",
      "\n",
      "('biome4', 192, 70)\n",
      "Edge1: [95, 210], Edge2: [192, 70]\n",
      "Incoming: False\n",
      "Percentage of flow: 39.3182283101554\n",
      "\n"
     ]
    }
   ],
   "source": [
    "s_b = water_path.get_biomes_associated_with_params(params)\n",
    "water_path.print_waterflow(params)"
   ]
  },
  {
   "cell_type": "code",
   "execution_count": 20,
   "metadata": {
    "collapsed": false
   },
   "outputs": [
    {
     "data": {
      "image/png": "[encoded data removed]",
      "text/plain": [
       "<matplotlib.figure.Figure at 0x11002d7f0>"
      ]
     },
     "metadata": {},
     "output_type": "display_data"
    }
   ],
   "source": [
    "xs = np.linspace(0,225)\n",
    "\n",
    "lines = [[], [], []]\n",
    "\n",
    "for x in xs:\n",
    "    for i, l in enumerate(params['mu']):\n",
    "        y = l[1] + l[0] * x\n",
    "        \n",
    "        if (((x >= water_path.centroid[0]-5) and (x <= s_b[i][1] + 20)) or \n",
    "            ((x < water_path.centroid[0]+5) and (x > s_b[i][1] - 10) )):\n",
    "            \n",
    "            lines[i].append([x,y])\n",
    "\n",
    "colors = ['r', 'g', 'b']\n",
    "selection = np.argmax(params['T'], axis=1)\n",
    "\n",
    "lines = [np.array(l) for l in lines]\n",
    "\n",
    "\n",
    "for i in range(3):\n",
    "    plt.scatter(params['X'][:,0][selection == i], params['y'][selection == i], c = colors[i], lw=0, s=3, alpha=0.8)\n",
    "\n",
    "    plt.plot(lines[i][:,0], lines[i][:,1], c = colors[i], lw=4, label=s_b[i][0])\n",
    "\n",
    "plt.legend(loc='best')\n",
    "plt.show()"
   ]
  },
  {
   "cell_type": "code",
   "execution_count": null,
   "metadata": {
    "collapsed": true
   },
   "outputs": [],
   "source": []
  }
 ],
 "metadata": {
  "anaconda-cloud": {},
  "kernelspec": {
   "display_name": "Python 3",
   "language": "python",
   "name": "python3"
  },
  "language_info": {
   "codemirror_mode": {
    "name": "ipython",
    "version": 3
   },
   "file_extension": ".py",
   "mimetype": "text/x-python",
   "name": "python",
   "nbconvert_exporter": "python",
   "pygments_lexer": "ipython3",
   "version": "3.5.2"
  }
 },
 "nbformat": 4,
 "nbformat_minor": 1
}
